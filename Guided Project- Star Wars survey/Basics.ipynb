{
 "cells": [
  {
   "cell_type": "code",
   "execution_count": 8,
   "metadata": {
    "collapsed": true
   },
   "outputs": [],
   "source": [
    "import pandas as pd\n",
    "star_wars = pd.read_csv(\"star_wars.csv\", encoding=\"ISO-8859-1\")"
   ]
  },
  {
   "cell_type": "code",
   "execution_count": 9,
   "metadata": {
    "collapsed": false
   },
   "outputs": [
    {
     "data": {
      "text/html": [
       "<div style=\"max-height:1000px;max-width:1500px;overflow:auto;\">\n",
       "<table border=\"1\" class=\"dataframe\">\n",
       "  <thead>\n",
       "    <tr style=\"text-align: right;\">\n",
       "      <th></th>\n",
       "      <th>RespondentID</th>\n",
       "      <th>Have you seen any of the 6 films in the Star Wars franchise?</th>\n",
       "      <th>Do you consider yourself to be a fan of the Star Wars film franchise?</th>\n",
       "      <th>Which of the following Star Wars films have you seen? Please select all that apply.</th>\n",
       "      <th>Unnamed: 4</th>\n",
       "      <th>Unnamed: 5</th>\n",
       "      <th>Unnamed: 6</th>\n",
       "      <th>Unnamed: 7</th>\n",
       "      <th>Unnamed: 8</th>\n",
       "      <th>Please rank the Star Wars films in order of preference with 1 being your favorite film in the franchise and 6 being your least favorite film.</th>\n",
       "      <th>...</th>\n",
       "      <th>Unnamed: 28</th>\n",
       "      <th>Which character shot first?</th>\n",
       "      <th>Are you familiar with the Expanded Universe?</th>\n",
       "      <th>Do you consider yourself to be a fan of the Expanded Universe?ÂÃ¦</th>\n",
       "      <th>Do you consider yourself to be a fan of the Star Trek franchise?</th>\n",
       "      <th>Gender</th>\n",
       "      <th>Age</th>\n",
       "      <th>Household Income</th>\n",
       "      <th>Education</th>\n",
       "      <th>Location (Census Region)</th>\n",
       "    </tr>\n",
       "  </thead>\n",
       "  <tbody>\n",
       "    <tr>\n",
       "      <th>0</th>\n",
       "      <td>        NaN</td>\n",
       "      <td> Response</td>\n",
       "      <td> Response</td>\n",
       "      <td> Star Wars: Episode I  The Phantom Menace</td>\n",
       "      <td> Star Wars: Episode II  Attack of the Clones</td>\n",
       "      <td> Star Wars: Episode III  Revenge of the Sith</td>\n",
       "      <td> Star Wars: Episode IV  A New Hope</td>\n",
       "      <td> Star Wars: Episode V The Empire Strikes Back</td>\n",
       "      <td> Star Wars: Episode VI Return of the Jedi</td>\n",
       "      <td> Star Wars: Episode I  The Phantom Menace</td>\n",
       "      <td>...</td>\n",
       "      <td>           Yoda</td>\n",
       "      <td>                         Response</td>\n",
       "      <td> Response</td>\n",
       "      <td> Response</td>\n",
       "      <td> Response</td>\n",
       "      <td> Response</td>\n",
       "      <td> Response</td>\n",
       "      <td> Response</td>\n",
       "      <td>           Response</td>\n",
       "      <td>       Response</td>\n",
       "    </tr>\n",
       "    <tr>\n",
       "      <th>1</th>\n",
       "      <td> 3292879998</td>\n",
       "      <td>      Yes</td>\n",
       "      <td>      Yes</td>\n",
       "      <td> Star Wars: Episode I  The Phantom Menace</td>\n",
       "      <td> Star Wars: Episode II  Attack of the Clones</td>\n",
       "      <td> Star Wars: Episode III  Revenge of the Sith</td>\n",
       "      <td> Star Wars: Episode IV  A New Hope</td>\n",
       "      <td> Star Wars: Episode V The Empire Strikes Back</td>\n",
       "      <td> Star Wars: Episode VI Return of the Jedi</td>\n",
       "      <td>                                        3</td>\n",
       "      <td>...</td>\n",
       "      <td> Very favorably</td>\n",
       "      <td> I don't understand this question</td>\n",
       "      <td>      Yes</td>\n",
       "      <td>       No</td>\n",
       "      <td>       No</td>\n",
       "      <td>     Male</td>\n",
       "      <td>    18-29</td>\n",
       "      <td>      NaN</td>\n",
       "      <td> High school degree</td>\n",
       "      <td> South Atlantic</td>\n",
       "    </tr>\n",
       "  </tbody>\n",
       "</table>\n",
       "<p>2 rows × 38 columns</p>\n",
       "</div>"
      ],
      "text/plain": [
       "   RespondentID Have you seen any of the 6 films in the Star Wars franchise?  \\\n",
       "0           NaN                                           Response             \n",
       "1    3292879998                                                Yes             \n",
       "\n",
       "  Do you consider yourself to be a fan of the Star Wars film franchise?  \\\n",
       "0                                           Response                      \n",
       "1                                                Yes                      \n",
       "\n",
       "  Which of the following Star Wars films have you seen? Please select all that apply.  \\\n",
       "0           Star Wars: Episode I  The Phantom Menace                                    \n",
       "1           Star Wars: Episode I  The Phantom Menace                                    \n",
       "\n",
       "                                    Unnamed: 4  \\\n",
       "0  Star Wars: Episode II  Attack of the Clones   \n",
       "1  Star Wars: Episode II  Attack of the Clones   \n",
       "\n",
       "                                    Unnamed: 5  \\\n",
       "0  Star Wars: Episode III  Revenge of the Sith   \n",
       "1  Star Wars: Episode III  Revenge of the Sith   \n",
       "\n",
       "                          Unnamed: 6  \\\n",
       "0  Star Wars: Episode IV  A New Hope   \n",
       "1  Star Wars: Episode IV  A New Hope   \n",
       "\n",
       "                                     Unnamed: 7  \\\n",
       "0  Star Wars: Episode V The Empire Strikes Back   \n",
       "1  Star Wars: Episode V The Empire Strikes Back   \n",
       "\n",
       "                                 Unnamed: 8  \\\n",
       "0  Star Wars: Episode VI Return of the Jedi   \n",
       "1  Star Wars: Episode VI Return of the Jedi   \n",
       "\n",
       "  Please rank the Star Wars films in order of preference with 1 being your favorite film in the franchise and 6 being your least favorite film.  \\\n",
       "0           Star Wars: Episode I  The Phantom Menace                                                                                              \n",
       "1                                                  3                                                                                              \n",
       "\n",
       "            ...                Unnamed: 28       Which character shot first?  \\\n",
       "0           ...                       Yoda                          Response   \n",
       "1           ...             Very favorably  I don't understand this question   \n",
       "\n",
       "  Are you familiar with the Expanded Universe?  \\\n",
       "0                                     Response   \n",
       "1                                          Yes   \n",
       "\n",
       "  Do you consider yourself to be a fan of the Expanded Universe?ÂÃ¦  \\\n",
       "0                                           Response                   \n",
       "1                                                 No                   \n",
       "\n",
       "  Do you consider yourself to be a fan of the Star Trek franchise?    Gender  \\\n",
       "0                                           Response                Response   \n",
       "1                                                 No                    Male   \n",
       "\n",
       "        Age Household Income           Education Location (Census Region)  \n",
       "0  Response         Response            Response                 Response  \n",
       "1     18-29              NaN  High school degree           South Atlantic  \n",
       "\n",
       "[2 rows x 38 columns]"
      ]
     },
     "execution_count": 9,
     "metadata": {},
     "output_type": "execute_result"
    }
   ],
   "source": [
    "star_wars.head(2)"
   ]
  },
  {
   "cell_type": "code",
   "execution_count": 10,
   "metadata": {
    "collapsed": false
   },
   "outputs": [
    {
     "name": "stdout",
     "output_type": "stream",
     "text": [
      "Index(['RespondentID', 'Have you seen any of the 6 films in the Star Wars franchise?', 'Do you consider yourself to be a fan of the Star Wars film franchise?', 'Which of the following Star Wars films have you seen? Please select all that apply.', 'Unnamed: 4', 'Unnamed: 5', 'Unnamed: 6', 'Unnamed: 7', 'Unnamed: 8', 'Please rank the Star Wars films in order of preference with 1 being your favorite film in the franchise and 6 being your least favorite film.', 'Unnamed: 10', 'Unnamed: 11', 'Unnamed: 12', 'Unnamed: 13', 'Unnamed: 14', 'Please state whether you view the following characters favorably, unfavorably, or are unfamiliar with him/her.', 'Unnamed: 16', 'Unnamed: 17', 'Unnamed: 18', 'Unnamed: 19', 'Unnamed: 20', 'Unnamed: 21', 'Unnamed: 22', 'Unnamed: 23', 'Unnamed: 24', 'Unnamed: 25', 'Unnamed: 26', 'Unnamed: 27', 'Unnamed: 28', 'Which character shot first?', 'Are you familiar with the Expanded Universe?', 'Do you consider yourself to be a fan of the Expanded Universe?ÂÃ¦', 'Do you consider yourself to be a fan of the Star Trek franchise?', 'Gender', 'Age', 'Household Income', 'Education', 'Location (Census Region)'], dtype='object')\n"
     ]
    }
   ],
   "source": [
    "print(star_wars.columns)"
   ]
  },
  {
   "cell_type": "code",
   "execution_count": 11,
   "metadata": {
    "collapsed": true
   },
   "outputs": [],
   "source": [
    "star_wars = star_wars[pd.notnull(star_wars[\"RespondentID\"])]"
   ]
  },
  {
   "cell_type": "code",
   "execution_count": 12,
   "metadata": {
    "collapsed": false
   },
   "outputs": [],
   "source": [
    "columns = ['Have you seen any of the 6 films in the Star Wars franchise?',\n",
    "          'Do you consider yourself to be a fan of the Star Wars film franchise?']\n",
    "for col in columns:\n",
    "    star_wars[col] = star_wars[col].map({\"Yes\" : \"True\", \"No\" : \"False\"})\n",
    "\n"
   ]
  },
  {
   "cell_type": "code",
   "execution_count": 13,
   "metadata": {
    "collapsed": false
   },
   "outputs": [
    {
     "data": {
      "text/plain": [
       "1     True\n",
       "2    False\n",
       "3     True\n",
       "4     True\n",
       "5     True\n",
       "Name: Have you seen any of the 6 films in the Star Wars franchise?, dtype: object"
      ]
     },
     "execution_count": 13,
     "metadata": {},
     "output_type": "execute_result"
    }
   ],
   "source": [
    "star_wars[columns[0]].head()"
   ]
  },
  {
   "cell_type": "code",
   "execution_count": 15,
   "metadata": {
    "collapsed": false
   },
   "outputs": [
    {
     "name": "stdout",
     "output_type": "stream",
     "text": [
      "['Star Wars: Episode I  The Phantom Menace', 'Star Wars: Episode II  Attack of the Clones', 'Star Wars: Episode III  Revenge of the Sith', 'Star Wars: Episode IV  A New Hope', 'Star Wars: Episode V The Empire Strikes Back', 'Star Wars: Episode VI Return of the Jedi']\n"
     ]
    }
   ],
   "source": [
    "column_titles = star_wars.columns[3:9]\n",
    "movie_titles = []\n",
    "\n",
    "for col in column_titles:\n",
    "    movie_titles.append(star_wars[col].value_counts().index[0])\n",
    "\n",
    "\n",
    "print(movie_titles)"
   ]
  },
  {
   "cell_type": "code",
   "execution_count": 16,
   "metadata": {
    "collapsed": false
   },
   "outputs": [
    {
     "name": "stdout",
     "output_type": "stream",
     "text": [
      "Which of the following Star Wars films have you seen? Please select all that apply. Star Wars: Episode I  The Phantom Menace 1\n",
      "Unnamed: 4 Star Wars: Episode II  Attack of the Clones 2\n",
      "Unnamed: 5 Star Wars: Episode III  Revenge of the Sith 3\n",
      "Unnamed: 6 Star Wars: Episode IV  A New Hope 4\n",
      "Unnamed: 7 Star Wars: Episode V The Empire Strikes Back 5\n",
      "Unnamed: 8 Star Wars: Episode VI Return of the Jedi 6\n"
     ]
    }
   ],
   "source": [
    "count = 1\n",
    "for col, mov in zip(column_titles, movie_titles):\n",
    "    print(col, mov, count)\n",
    "    star_wars[col] = star_wars[col].map({mov:True, \"NaN\":False})\n",
    "    star_wars = star_wars.rename(columns={col:\"seen_\"+str(count)})\n",
    "    count+=1\n",
    "    \n",
    "\n"
   ]
  },
  {
   "cell_type": "code",
   "execution_count": 18,
   "metadata": {
    "collapsed": false
   },
   "outputs": [
    {
     "name": "stdout",
     "output_type": "stream",
     "text": [
      "Index(['RespondentID', 'Have you seen any of the 6 films in the Star Wars franchise?', 'Do you consider yourself to be a fan of the Star Wars film franchise?', 'seen_1', 'seen_2', 'seen_3', 'seen_4', 'seen_5', 'seen_6', 'Please rank the Star Wars films in order of preference with 1 being your favorite film in the franchise and 6 being your least favorite film.', 'Unnamed: 10', 'Unnamed: 11', 'Unnamed: 12', 'Unnamed: 13', 'Unnamed: 14', 'Please state whether you view the following characters favorably, unfavorably, or are unfamiliar with him/her.', 'Unnamed: 16', 'Unnamed: 17', 'Unnamed: 18', 'Unnamed: 19', 'Unnamed: 20', 'Unnamed: 21', 'Unnamed: 22', 'Unnamed: 23', 'Unnamed: 24', 'Unnamed: 25', 'Unnamed: 26', 'Unnamed: 27', 'Unnamed: 28', 'Which character shot first?', 'Are you familiar with the Expanded Universe?', 'Do you consider yourself to be a fan of the Expanded Universe?ÂÃ¦', 'Do you consider yourself to be a fan of the Star Trek franchise?', 'Gender', 'Age', 'Household Income', 'Education', 'Location (Census Region)'], dtype='object')\n",
      "1     True\n",
      "2      NaN\n",
      "3     True\n",
      "4     True\n",
      "5     True\n",
      "6     True\n",
      "7     True\n",
      "8     True\n",
      "9     True\n",
      "10     NaN\n",
      "11     NaN\n",
      "12     NaN\n",
      "13    True\n",
      "14    True\n",
      "15    True\n",
      "...\n",
      "1172    True\n",
      "1173     NaN\n",
      "1174    True\n",
      "1175    True\n",
      "1176    True\n",
      "1177    True\n",
      "1178    True\n",
      "1179     NaN\n",
      "1180     NaN\n",
      "1181    True\n",
      "1182    True\n",
      "1183    True\n",
      "1184     NaN\n",
      "1185    True\n",
      "1186    True\n",
      "Name: seen_1, Length: 1186, dtype: object 1     True\n",
      "2      NaN\n",
      "3     True\n",
      "4     True\n",
      "5     True\n",
      "6     True\n",
      "7     True\n",
      "8     True\n",
      "9     True\n",
      "10    True\n",
      "11     NaN\n",
      "12     NaN\n",
      "13    True\n",
      "14    True\n",
      "15    True\n",
      "...\n",
      "1172    True\n",
      "1173     NaN\n",
      "1174    True\n",
      "1175    True\n",
      "1176    True\n",
      "1177    True\n",
      "1178    True\n",
      "1179     NaN\n",
      "1180     NaN\n",
      "1181    True\n",
      "1182    True\n",
      "1183    True\n",
      "1184     NaN\n",
      "1185    True\n",
      "1186    True\n",
      "Name: seen_2, Length: 1186, dtype: object 1     True\n",
      "2      NaN\n",
      "3      NaN\n",
      "4     True\n",
      "5     True\n",
      "6     True\n",
      "7     True\n",
      "8     True\n",
      "9     True\n",
      "10     NaN\n",
      "11     NaN\n",
      "12     NaN\n",
      "13    True\n",
      "14    True\n",
      "15    True\n",
      "...\n",
      "1172    True\n",
      "1173    True\n",
      "1174    True\n",
      "1175     NaN\n",
      "1176    True\n",
      "1177     NaN\n",
      "1178    True\n",
      "1179     NaN\n",
      "1180    True\n",
      "1181    True\n",
      "1182    True\n",
      "1183    True\n",
      "1184     NaN\n",
      "1185    True\n",
      "1186    True\n",
      "Name: seen_6, Length: 1186, dtype: object\n"
     ]
    }
   ],
   "source": [
    "print(star_wars.columns)\n",
    "print(star_wars.seen_1, star_wars.seen_2, star_wars.seen_6)"
   ]
  },
  {
   "cell_type": "code",
   "execution_count": 19,
   "metadata": {
    "collapsed": true
   },
   "outputs": [],
   "source": [
    "star_wars[star_wars.columns[9:15]] = star_wars[star_wars.columns[9:15]].astype(float)"
   ]
  },
  {
   "cell_type": "code",
   "execution_count": 20,
   "metadata": {
    "collapsed": true
   },
   "outputs": [],
   "source": [
    "column_titles = star_wars.columns[9:15]\n",
    "count = 1\n",
    "for col in column_titles:\n",
    "    star_wars = star_wars.rename(columns={col:\"ranking_\"+str(count)})\n",
    "    count+=1\n",
    "    \n"
   ]
  },
  {
   "cell_type": "code",
   "execution_count": 21,
   "metadata": {
    "collapsed": false
   },
   "outputs": [
    {
     "name": "stdout",
     "output_type": "stream",
     "text": [
      "1      3\n",
      "2    NaN\n",
      "3      1\n",
      "4      5\n",
      "5      5\n",
      "6      1\n",
      "7      6\n",
      "8      4\n",
      "9      5\n",
      "10     1\n",
      "11   NaN\n",
      "12   NaN\n",
      "13     3\n",
      "14     4\n",
      "15     4\n",
      "...\n",
      "1172     6\n",
      "1173     2\n",
      "1174     5\n",
      "1175     1\n",
      "1176     1\n",
      "1177     2\n",
      "1178     1\n",
      "1179   NaN\n",
      "1180     3\n",
      "1181     3\n",
      "1182     5\n",
      "1183     4\n",
      "1184   NaN\n",
      "1185     4\n",
      "1186     6\n",
      "Name: ranking_1, Length: 1186, dtype: float64 1      1\n",
      "2    NaN\n",
      "3      3\n",
      "4      1\n",
      "5      6\n",
      "6      3\n",
      "7      4\n",
      "8      6\n",
      "9      6\n",
      "10     3\n",
      "11   NaN\n",
      "12   NaN\n",
      "13     5\n",
      "14     6\n",
      "15     5\n",
      "...\n",
      "1172     1\n",
      "1173     4\n",
      "1174     6\n",
      "1175     3\n",
      "1176     4\n",
      "1177     3\n",
      "1178     3\n",
      "1179   NaN\n",
      "1180     5\n",
      "1181     5\n",
      "1182     6\n",
      "1183     6\n",
      "1184   NaN\n",
      "1185     6\n",
      "1186     2\n",
      "Name: ranking_3, Length: 1186, dtype: float64 1      6\n",
      "2    NaN\n",
      "3      6\n",
      "4      3\n",
      "5      3\n",
      "6      2\n",
      "7      2\n",
      "8      1\n",
      "9      3\n",
      "10     6\n",
      "11   NaN\n",
      "12   NaN\n",
      "13     2\n",
      "14     1\n",
      "15     6\n",
      "...\n",
      "1172     4\n",
      "1173     5\n",
      "1174     1\n",
      "1175     6\n",
      "1176     5\n",
      "1177     6\n",
      "1178     6\n",
      "1179   NaN\n",
      "1180     2\n",
      "1181     6\n",
      "1182     1\n",
      "1183     1\n",
      "1184   NaN\n",
      "1185     1\n",
      "1186     5\n",
      "Name: ranking_6, Length: 1186, dtype: float64\n"
     ]
    }
   ],
   "source": [
    "print(star_wars['ranking_1'], star_wars['ranking_3'], star_wars['ranking_6'])"
   ]
  },
  {
   "cell_type": "code",
   "execution_count": 23,
   "metadata": {
    "collapsed": false
   },
   "outputs": [
    {
     "name": "stdout",
     "output_type": "stream",
     "text": [
      "[3.7329341317365268, 4.0873205741626792, 4.341317365269461, 3.2727272727272729, 2.513157894736842, 3.0478468899521531]\n"
     ]
    }
   ],
   "source": [
    "avg_rankings = []\n",
    "for col in star_wars.columns[9:15]:\n",
    "    avg_rankings.append(star_wars[col].mean())\n",
    "    \n",
    "print(avg_rankings)"
   ]
  },
  {
   "cell_type": "code",
   "execution_count": 26,
   "metadata": {
    "collapsed": false
   },
   "outputs": [
    {
     "data": {
      "image/png": "[encoded data removed]",
      "text/plain": [
       "<matplotlib.figure.Figure at 0x7f855d01d9b0>"
      ]
     },
     "metadata": {},
     "output_type": "display_data"
    }
   ],
   "source": [
    "%matplotlib inline\n",
    "import matplotlib.pyplot as plt\n",
    "import seaborn as sns\n",
    "plt.bar(range(len(avg_rankings)),avg_rankings)\n",
    "plt.show()"
   ]
  },
  {
   "cell_type": "markdown",
   "metadata": {},
   "source": [
    "# Evaluating Star Wars rankings\n",
    "## Audit and clean the data\n",
    "### Initial steps included removing missing respondent ID rows, converting binary string data (Y/N) into booleans and renaming column names to be more wieldy.\n",
    "### In addition, data within particular fields were transformed to include consistent information (i.e. the presence/absence of a movie title was changed to T/F).\n",
    "\n",
    "## Perform analysis and look at the data\n",
    "### Ranking variables were averaged across movies and a simple bar chart illustrates the six movie rankings, clearly with Empire as the favorite."
   ]
  },
  {
   "cell_type": "code",
   "execution_count": 30,
   "metadata": {
    "collapsed": false
   },
   "outputs": [
    {
     "name": "stdout",
     "output_type": "stream",
     "text": [
      "[673, 571, 550, 607, 758, 738]\n"
     ]
    }
   ],
   "source": [
    "seen_list = []\n",
    "for i in range(1,7):\n",
    "    seen_list.append(star_wars[\"seen_\"+str(i)].sum())\n",
    "print(seen_list)"
   ]
  },
  {
   "cell_type": "code",
   "execution_count": 32,
   "metadata": {
    "collapsed": false
   },
   "outputs": [
    {
     "data": {
      "image/png": "[encoded data removed]",
      "text/plain": [
       "<matplotlib.figure.Figure at 0x7f8555fee080>"
      ]
     },
     "metadata": {},
     "output_type": "display_data"
    }
   ],
   "source": [
    "plt.bar(range(1,7), seen_list)\n",
    "plt.show()"
   ]
  },
  {
   "cell_type": "markdown",
   "metadata": {},
   "source": [
    "## Data visualization cont.\n",
    "### While Empire is the clear favorite, let's look at which movie has been seen the most.  Not surprisingly there seems to be a strong correlation between the ranking of the movie and how many times the movie had been seen."
   ]
  },
  {
   "cell_type": "code",
   "execution_count": 33,
   "metadata": {
    "collapsed": true
   },
   "outputs": [],
   "source": [
    "males = star_wars[star_wars[\"Gender\"] == \"Male\"]\n",
    "females = star_wars[star_wars[\"Gender\"] == \"Female\"]\n",
    "\n",
    "true_fan_ST = star_wars[star_wars[\"Do you consider yourself to be a fan of the Star Trek franchise?\"] == \"Yes\"]\n",
    "false_fan_ST = star_wars[star_wars[\"Do you consider yourself to be a fan of the Star Trek franchise?\"] == \"No\"]\n",
    "\n"
   ]
  },
  {
   "cell_type": "code",
   "execution_count": 42,
   "metadata": {
    "collapsed": false
   },
   "outputs": [
    {
     "data": {
      "image/png": "[encoded data removed]",
      "text/plain": [
       "<matplotlib.figure.Figure at 0x7f85561234e0>"
      ]
     },
     "metadata": {},
     "output_type": "display_data"
    },
    {
     "data": {
      "image/png": "[encoded data removed]",
      "text/plain": [
       "<matplotlib.figure.Figure at 0x7f8555f51cf8>"
      ]
     },
     "metadata": {},
     "output_type": "display_data"
    }
   ],
   "source": [
    "import numpy as np\n",
    "\n",
    "def avg_rankings(data):\n",
    "    avg = []\n",
    "    for col in data.columns[9:15]:\n",
    "        avg.append(data[col].mean())\n",
    "    return avg\n",
    "\n",
    "\n",
    "def seen_list(data):\n",
    "    seen = []\n",
    "    for i in range(1,7):\n",
    "        seen.append(data[\"seen_\"+str(i)].sum())\n",
    "    return seen\n",
    "\n",
    "\n",
    "index = np.arange(len(avg_rankings(males)))\n",
    "bar_width = 0.35\n",
    "\n",
    "plt.bar(index,avg_rankings(males), bar_width, color='b')\n",
    "plt.bar(index+bar_width, avg_rankings(females), bar_width, color='g')\n",
    "plt.title(\"Mean Star Wars Film Rankings by Gender\")\n",
    "plt.show()\n",
    "\n",
    "\n",
    "index = np.arange(len(seen_list(males)))\n",
    "\n",
    "plt.bar(index, seen_list(males), bar_width, color='b')\n",
    "plt.bar(index+bar_width, seen_list(females), bar_width, color='g')\n",
    "plt.title(\"Count of Movies Seen by Gender\")\n",
    "plt.show()"
   ]
  },
  {
   "cell_type": "markdown",
   "metadata": {},
   "source": [
    "## Identify patterns\n",
    "### Splitting the data set by Gender reveals that for the most part, males and females rank the Star Wars movies equivalently (excepting for the unfortunate case where females tend to like Phantom slightly more than A New Hope).  Unsurprisingly females have seen the Star Wars movies "
   ]
  }
 ],
 "metadata": {
  "kernelspec": {
   "display_name": "Python 3",
   "language": "python",
   "name": "python3"
  },
  "language_info": {
   "codemirror_mode": {
    "name": "ipython",
    "version": 3
   },
   "file_extension": ".py",
   "mimetype": "text/x-python",
   "name": "python",
   "nbconvert_exporter": "python",
   "pygments_lexer": "ipython3",
   "version": "3.4.3"
  }
 },
 "nbformat": 4,
 "nbformat_minor": 0
}
